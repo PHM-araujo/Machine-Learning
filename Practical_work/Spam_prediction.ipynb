{
 "cells": [
  {
   "attachments": {},
   "cell_type": "markdown",
   "metadata": {},
   "source": [
    "# Trabalho prático - Predição de Spam\n"
   ]
  },
  {
   "attachments": {},
   "cell_type": "markdown",
   "metadata": {},
   "source": [
    "## 1) Bibliotecas e funções usadas"
   ]
  },
  {
   "attachments": {},
   "cell_type": "markdown",
   "metadata": {},
   "source": [
    "### 1.1) Bibliotecas necessárias "
   ]
  },
  {
   "cell_type": "code",
   "execution_count": 1,
   "metadata": {},
   "outputs": [],
   "source": [
    "import pandas as pd\n",
    "import plotly.graph_objs as go\n",
    "import numpy as np\n",
    "import matplotlib.pyplot as plt\n",
    "import seaborn as sns\n",
    "from sklearn.metrics import f1_score\n",
    "from sklearn.preprocessing import StandardScaler\n",
    "from sklearn.model_selection import GridSearchCV, KFold\n",
    "from sklearn import svm\n",
    "from sklearn.neighbors import KNeighborsClassifier\n",
    "from sklearn.neural_network import MLPClassifier\n",
    "from sklearn.metrics import ConfusionMatrixDisplay\n",
    "\n",
    "\n",
    "color = sns.color_palette()"
   ]
  },
  {
   "attachments": {},
   "cell_type": "markdown",
   "metadata": {},
   "source": [
    "### 1.2) Funções úteis"
   ]
  },
  {
   "cell_type": "code",
   "execution_count": 10,
   "metadata": {},
   "outputs": [],
   "source": [
    "# Gráfico com a interpretação dos dados\n",
    "def modelResultsChart(x, y, labels_x, title):\n",
    "    # Plot scores on each trial for nested and non-nested CV\n",
    "    plt.figure(figsize=(12,4))\n",
    "    plt.plot(range(x), y, color=\"r\")\n",
    "\n",
    "    plt.ylabel(\"score\", fontsize=\"14\")\n",
    "    plt.xticks(range(x), labels_x, fontsize=4)\n",
    "    #plt.yticks(np.arange(0, 1, 0.05))\n",
    "    plt.xlabel(\"Parâmetros otimizados na validação\")\n",
    "\n",
    "    plt.title(\n",
    "    title,\n",
    "    x=0.5,\n",
    "    y=1.1,\n",
    "    fontsize=\"15\",\n",
    "    )\n",
    "    # cell_text = np.matrix(float)\n",
    "    # print(cell_text)\n",
    "    # columns = []\n",
    "    # columns.append('Fold')\n",
    "    # dic = labels_x[0]\n",
    "\n",
    "\n",
    "    # for i in range(2):\n",
    "    #     aux = labels_x[i]\n",
    "    #     j = 0\n",
    "    #     for chave in aux.keys():\n",
    "    #         cell_text[i][j] = str(aux[chave])\n",
    "    #         j += 1\n",
    "\n",
    "    # for chaves in dic:\n",
    "    #     columns.append(chaves)\n",
    "\n",
    "    # columns.append('F-score')\n",
    "    # rows = ['0', '1']\n",
    "    # print(cell_text)\n",
    "    # plt.table(rowLabels=rows, colLabels=columns, cellText=cell_text, loc='bottom')\n",
    "\n",
    "    plt.show()\n"
   ]
  },
  {
   "attachments": {},
   "cell_type": "markdown",
   "metadata": {},
   "source": [
    "## 2) Carregar dados do DB"
   ]
  },
  {
   "cell_type": "code",
   "execution_count": 3,
   "metadata": {},
   "outputs": [
    {
     "name": "stdout",
     "output_type": "stream",
     "text": [
      "       word_freq_make  word_freq_address  word_freq_all  word_freq_3d  \\\n",
      "count     4601.000000        4601.000000    4601.000000   4601.000000   \n",
      "mean         0.104553           0.213015       0.280656      0.065425   \n",
      "std          0.305358           1.290575       0.504143      1.395151   \n",
      "min          0.000000           0.000000       0.000000      0.000000   \n",
      "25%          0.000000           0.000000       0.000000      0.000000   \n",
      "50%          0.000000           0.000000       0.000000      0.000000   \n",
      "75%          0.000000           0.000000       0.420000      0.000000   \n",
      "max          4.540000          14.280000       5.100000     42.810000   \n",
      "\n",
      "       word_freq_our  word_freq_over  word_freq_remove  word_freq_internet  \\\n",
      "count    4601.000000     4601.000000       4601.000000         4601.000000   \n",
      "mean        0.312223        0.095901          0.114208            0.105295   \n",
      "std         0.672513        0.273824          0.391441            0.401071   \n",
      "min         0.000000        0.000000          0.000000            0.000000   \n",
      "25%         0.000000        0.000000          0.000000            0.000000   \n",
      "50%         0.000000        0.000000          0.000000            0.000000   \n",
      "75%         0.380000        0.000000          0.000000            0.000000   \n",
      "max        10.000000        5.880000          7.270000           11.110000   \n",
      "\n",
      "       word_freq_order  word_freq_mail  ...  char_freq_%3B  char_freq_%28  \\\n",
      "count      4601.000000     4601.000000  ...    4601.000000    4601.000000   \n",
      "mean          0.090067        0.239413  ...       0.038575       0.139030   \n",
      "std           0.278616        0.644755  ...       0.243471       0.270355   \n",
      "min           0.000000        0.000000  ...       0.000000       0.000000   \n",
      "25%           0.000000        0.000000  ...       0.000000       0.000000   \n",
      "50%           0.000000        0.000000  ...       0.000000       0.065000   \n",
      "75%           0.000000        0.160000  ...       0.000000       0.188000   \n",
      "max           5.260000       18.180000  ...       4.385000       9.752000   \n",
      "\n",
      "       char_freq_%5B  char_freq_%21  char_freq_%24  char_freq_%23  \\\n",
      "count    4601.000000    4601.000000    4601.000000    4601.000000   \n",
      "mean        0.016976       0.269071       0.075811       0.044238   \n",
      "std         0.109394       0.815672       0.245882       0.429342   \n",
      "min         0.000000       0.000000       0.000000       0.000000   \n",
      "25%         0.000000       0.000000       0.000000       0.000000   \n",
      "50%         0.000000       0.000000       0.000000       0.000000   \n",
      "75%         0.000000       0.315000       0.052000       0.000000   \n",
      "max         4.081000      32.478000       6.003000      19.829000   \n",
      "\n",
      "       capital_run_length_average  capital_run_length_longest  \\\n",
      "count                 4601.000000                 4601.000000   \n",
      "mean                     5.191515                   52.172789   \n",
      "std                     31.729449                  194.891310   \n",
      "min                      1.000000                    1.000000   \n",
      "25%                      1.588000                    6.000000   \n",
      "50%                      2.276000                   15.000000   \n",
      "75%                      3.706000                   43.000000   \n",
      "max                   1102.500000                 9989.000000   \n",
      "\n",
      "       capital_run_length_total        class  \n",
      "count               4601.000000  4601.000000  \n",
      "mean                 283.289285     0.394045  \n",
      "std                  606.347851     0.488698  \n",
      "min                    1.000000     0.000000  \n",
      "25%                   35.000000     0.000000  \n",
      "50%                   95.000000     0.000000  \n",
      "75%                  266.000000     1.000000  \n",
      "max                15841.000000     1.000000  \n",
      "\n",
      "[8 rows x 58 columns]\n",
      "<bound method NDFrame._add_numeric_operations.<locals>.sum of 0       False\n",
      "1       False\n",
      "2       False\n",
      "3       False\n",
      "4       False\n",
      "        ...  \n",
      "4596    False\n",
      "4597    False\n",
      "4598    False\n",
      "4599    False\n",
      "4600    False\n",
      "Length: 4601, dtype: bool>\n"
     ]
    }
   ],
   "source": [
    "nomes = ['word_freq_make', 'word_freq_address', 'word_freq_all', 'word_freq_3d', 'word_freq_our', 'word_freq_over', 'word_freq_remove', 'word_freq_internet', 'word_freq_order', 'word_freq_mail', 'word_freq_receive', 'word_freq_will', 'word_freq_people', 'word_freq_report', 'word_freq_addresses', 'word_freq_free', 'word_freq_business', 'word_freq_email', 'word_freq_you', 'word_freq_credit', 'word_freq_your',\t'word_freq_font', 'word_freq_000', 'word_freq_money', 'word_freq_hp', 'word_freq_hpl',\t'word_freq_george',\t'word_freq_650', 'word_freq_lab', 'word_freq_labs', 'word_freq_telnet', 'word_freq_857', 'word_freq_data', 'word_freq_415', 'word_freq_85', 'word_freq_technology',\t'word_freq_1999', 'word_freq_parts', 'word_freq_pm', 'word_freq_direct', 'word_freq_cs', 'word_freq_meeting', 'word_freq_original', 'word_freq_project', 'word_freq_re', 'word_freq_edu', 'word_freq_table', 'word_freq_conference', 'char_freq_%3B', 'char_freq_%28', 'char_freq_%5B', 'char_freq_%21', 'char_freq_%24', 'char_freq_%23', 'capital_run_length_average', 'capital_run_length_longest', 'capital_run_length_total', 'class']\n",
    "\n",
    "spam = pd.read_csv(\"./spambase.data\", names=nomes)\n",
    "\n",
    "# Separar as classes dos atributos\n",
    "X = spam.loc[:, spam.columns.difference(['class'])] # Matriz com as features \n",
    "y = spam.loc[:,'class']    # Vetor com as classes \n",
    "\n",
    "# Análise dos atributos\n",
    "print(spam.describe())  # Evidencia valores com escalas diferentes \n",
    "print(spam.duplicated().sum)    # Evidencia os valores repetidos do dataset \n",
    "spam = spam.drop_duplicates(keep='first')\n"
   ]
  },
  {
   "attachments": {},
   "cell_type": "markdown",
   "metadata": {},
   "source": [
    "## 3) Análise do DB\n"
   ]
  },
  {
   "attachments": {},
   "cell_type": "markdown",
   "metadata": {},
   "source": [
    "### 3.1) Visualização das classes do DB:\n",
    "A visualização das classes permite observar que o Database é levemente não balanceado "
   ]
  },
  {
   "cell_type": "code",
   "execution_count": 4,
   "metadata": {},
   "outputs": [
    {
     "data": {
      "application/vnd.plotly.v1+json": {
       "config": {
        "plotlyServerURL": "https://plot.ly"
       },
       "data": [
        {
         "labels": [
          0,
          1
         ],
         "marker": {
          "colors": [
           "mediumturquoise",
           "darkorange"
          ],
          "line": {
           "color": "#000000",
           "width": 2
          }
         },
         "type": "pie",
         "values": [
          2531,
          1679
         ]
        }
       ],
       "layout": {
        "template": {
         "data": {
          "bar": [
           {
            "error_x": {
             "color": "#2a3f5f"
            },
            "error_y": {
             "color": "#2a3f5f"
            },
            "marker": {
             "line": {
              "color": "#E5ECF6",
              "width": 0.5
             },
             "pattern": {
              "fillmode": "overlay",
              "size": 10,
              "solidity": 0.2
             }
            },
            "type": "bar"
           }
          ],
          "barpolar": [
           {
            "marker": {
             "line": {
              "color": "#E5ECF6",
              "width": 0.5
             },
             "pattern": {
              "fillmode": "overlay",
              "size": 10,
              "solidity": 0.2
             }
            },
            "type": "barpolar"
           }
          ],
          "carpet": [
           {
            "aaxis": {
             "endlinecolor": "#2a3f5f",
             "gridcolor": "white",
             "linecolor": "white",
             "minorgridcolor": "white",
             "startlinecolor": "#2a3f5f"
            },
            "baxis": {
             "endlinecolor": "#2a3f5f",
             "gridcolor": "white",
             "linecolor": "white",
             "minorgridcolor": "white",
             "startlinecolor": "#2a3f5f"
            },
            "type": "carpet"
           }
          ],
          "choropleth": [
           {
            "colorbar": {
             "outlinewidth": 0,
             "ticks": ""
            },
            "type": "choropleth"
           }
          ],
          "contour": [
           {
            "colorbar": {
             "outlinewidth": 0,
             "ticks": ""
            },
            "colorscale": [
             [
              0,
              "#0d0887"
             ],
             [
              0.1111111111111111,
              "#46039f"
             ],
             [
              0.2222222222222222,
              "#7201a8"
             ],
             [
              0.3333333333333333,
              "#9c179e"
             ],
             [
              0.4444444444444444,
              "#bd3786"
             ],
             [
              0.5555555555555556,
              "#d8576b"
             ],
             [
              0.6666666666666666,
              "#ed7953"
             ],
             [
              0.7777777777777778,
              "#fb9f3a"
             ],
             [
              0.8888888888888888,
              "#fdca26"
             ],
             [
              1,
              "#f0f921"
             ]
            ],
            "type": "contour"
           }
          ],
          "contourcarpet": [
           {
            "colorbar": {
             "outlinewidth": 0,
             "ticks": ""
            },
            "type": "contourcarpet"
           }
          ],
          "heatmap": [
           {
            "colorbar": {
             "outlinewidth": 0,
             "ticks": ""
            },
            "colorscale": [
             [
              0,
              "#0d0887"
             ],
             [
              0.1111111111111111,
              "#46039f"
             ],
             [
              0.2222222222222222,
              "#7201a8"
             ],
             [
              0.3333333333333333,
              "#9c179e"
             ],
             [
              0.4444444444444444,
              "#bd3786"
             ],
             [
              0.5555555555555556,
              "#d8576b"
             ],
             [
              0.6666666666666666,
              "#ed7953"
             ],
             [
              0.7777777777777778,
              "#fb9f3a"
             ],
             [
              0.8888888888888888,
              "#fdca26"
             ],
             [
              1,
              "#f0f921"
             ]
            ],
            "type": "heatmap"
           }
          ],
          "heatmapgl": [
           {
            "colorbar": {
             "outlinewidth": 0,
             "ticks": ""
            },
            "colorscale": [
             [
              0,
              "#0d0887"
             ],
             [
              0.1111111111111111,
              "#46039f"
             ],
             [
              0.2222222222222222,
              "#7201a8"
             ],
             [
              0.3333333333333333,
              "#9c179e"
             ],
             [
              0.4444444444444444,
              "#bd3786"
             ],
             [
              0.5555555555555556,
              "#d8576b"
             ],
             [
              0.6666666666666666,
              "#ed7953"
             ],
             [
              0.7777777777777778,
              "#fb9f3a"
             ],
             [
              0.8888888888888888,
              "#fdca26"
             ],
             [
              1,
              "#f0f921"
             ]
            ],
            "type": "heatmapgl"
           }
          ],
          "histogram": [
           {
            "marker": {
             "pattern": {
              "fillmode": "overlay",
              "size": 10,
              "solidity": 0.2
             }
            },
            "type": "histogram"
           }
          ],
          "histogram2d": [
           {
            "colorbar": {
             "outlinewidth": 0,
             "ticks": ""
            },
            "colorscale": [
             [
              0,
              "#0d0887"
             ],
             [
              0.1111111111111111,
              "#46039f"
             ],
             [
              0.2222222222222222,
              "#7201a8"
             ],
             [
              0.3333333333333333,
              "#9c179e"
             ],
             [
              0.4444444444444444,
              "#bd3786"
             ],
             [
              0.5555555555555556,
              "#d8576b"
             ],
             [
              0.6666666666666666,
              "#ed7953"
             ],
             [
              0.7777777777777778,
              "#fb9f3a"
             ],
             [
              0.8888888888888888,
              "#fdca26"
             ],
             [
              1,
              "#f0f921"
             ]
            ],
            "type": "histogram2d"
           }
          ],
          "histogram2dcontour": [
           {
            "colorbar": {
             "outlinewidth": 0,
             "ticks": ""
            },
            "colorscale": [
             [
              0,
              "#0d0887"
             ],
             [
              0.1111111111111111,
              "#46039f"
             ],
             [
              0.2222222222222222,
              "#7201a8"
             ],
             [
              0.3333333333333333,
              "#9c179e"
             ],
             [
              0.4444444444444444,
              "#bd3786"
             ],
             [
              0.5555555555555556,
              "#d8576b"
             ],
             [
              0.6666666666666666,
              "#ed7953"
             ],
             [
              0.7777777777777778,
              "#fb9f3a"
             ],
             [
              0.8888888888888888,
              "#fdca26"
             ],
             [
              1,
              "#f0f921"
             ]
            ],
            "type": "histogram2dcontour"
           }
          ],
          "mesh3d": [
           {
            "colorbar": {
             "outlinewidth": 0,
             "ticks": ""
            },
            "type": "mesh3d"
           }
          ],
          "parcoords": [
           {
            "line": {
             "colorbar": {
              "outlinewidth": 0,
              "ticks": ""
             }
            },
            "type": "parcoords"
           }
          ],
          "pie": [
           {
            "automargin": true,
            "type": "pie"
           }
          ],
          "scatter": [
           {
            "fillpattern": {
             "fillmode": "overlay",
             "size": 10,
             "solidity": 0.2
            },
            "type": "scatter"
           }
          ],
          "scatter3d": [
           {
            "line": {
             "colorbar": {
              "outlinewidth": 0,
              "ticks": ""
             }
            },
            "marker": {
             "colorbar": {
              "outlinewidth": 0,
              "ticks": ""
             }
            },
            "type": "scatter3d"
           }
          ],
          "scattercarpet": [
           {
            "marker": {
             "colorbar": {
              "outlinewidth": 0,
              "ticks": ""
             }
            },
            "type": "scattercarpet"
           }
          ],
          "scattergeo": [
           {
            "marker": {
             "colorbar": {
              "outlinewidth": 0,
              "ticks": ""
             }
            },
            "type": "scattergeo"
           }
          ],
          "scattergl": [
           {
            "marker": {
             "colorbar": {
              "outlinewidth": 0,
              "ticks": ""
             }
            },
            "type": "scattergl"
           }
          ],
          "scattermapbox": [
           {
            "marker": {
             "colorbar": {
              "outlinewidth": 0,
              "ticks": ""
             }
            },
            "type": "scattermapbox"
           }
          ],
          "scatterpolar": [
           {
            "marker": {
             "colorbar": {
              "outlinewidth": 0,
              "ticks": ""
             }
            },
            "type": "scatterpolar"
           }
          ],
          "scatterpolargl": [
           {
            "marker": {
             "colorbar": {
              "outlinewidth": 0,
              "ticks": ""
             }
            },
            "type": "scatterpolargl"
           }
          ],
          "scatterternary": [
           {
            "marker": {
             "colorbar": {
              "outlinewidth": 0,
              "ticks": ""
             }
            },
            "type": "scatterternary"
           }
          ],
          "surface": [
           {
            "colorbar": {
             "outlinewidth": 0,
             "ticks": ""
            },
            "colorscale": [
             [
              0,
              "#0d0887"
             ],
             [
              0.1111111111111111,
              "#46039f"
             ],
             [
              0.2222222222222222,
              "#7201a8"
             ],
             [
              0.3333333333333333,
              "#9c179e"
             ],
             [
              0.4444444444444444,
              "#bd3786"
             ],
             [
              0.5555555555555556,
              "#d8576b"
             ],
             [
              0.6666666666666666,
              "#ed7953"
             ],
             [
              0.7777777777777778,
              "#fb9f3a"
             ],
             [
              0.8888888888888888,
              "#fdca26"
             ],
             [
              1,
              "#f0f921"
             ]
            ],
            "type": "surface"
           }
          ],
          "table": [
           {
            "cells": {
             "fill": {
              "color": "#EBF0F8"
             },
             "line": {
              "color": "white"
             }
            },
            "header": {
             "fill": {
              "color": "#C8D4E3"
             },
             "line": {
              "color": "white"
             }
            },
            "type": "table"
           }
          ]
         },
         "layout": {
          "annotationdefaults": {
           "arrowcolor": "#2a3f5f",
           "arrowhead": 0,
           "arrowwidth": 1
          },
          "autotypenumbers": "strict",
          "coloraxis": {
           "colorbar": {
            "outlinewidth": 0,
            "ticks": ""
           }
          },
          "colorscale": {
           "diverging": [
            [
             0,
             "#8e0152"
            ],
            [
             0.1,
             "#c51b7d"
            ],
            [
             0.2,
             "#de77ae"
            ],
            [
             0.3,
             "#f1b6da"
            ],
            [
             0.4,
             "#fde0ef"
            ],
            [
             0.5,
             "#f7f7f7"
            ],
            [
             0.6,
             "#e6f5d0"
            ],
            [
             0.7,
             "#b8e186"
            ],
            [
             0.8,
             "#7fbc41"
            ],
            [
             0.9,
             "#4d9221"
            ],
            [
             1,
             "#276419"
            ]
           ],
           "sequential": [
            [
             0,
             "#0d0887"
            ],
            [
             0.1111111111111111,
             "#46039f"
            ],
            [
             0.2222222222222222,
             "#7201a8"
            ],
            [
             0.3333333333333333,
             "#9c179e"
            ],
            [
             0.4444444444444444,
             "#bd3786"
            ],
            [
             0.5555555555555556,
             "#d8576b"
            ],
            [
             0.6666666666666666,
             "#ed7953"
            ],
            [
             0.7777777777777778,
             "#fb9f3a"
            ],
            [
             0.8888888888888888,
             "#fdca26"
            ],
            [
             1,
             "#f0f921"
            ]
           ],
           "sequentialminus": [
            [
             0,
             "#0d0887"
            ],
            [
             0.1111111111111111,
             "#46039f"
            ],
            [
             0.2222222222222222,
             "#7201a8"
            ],
            [
             0.3333333333333333,
             "#9c179e"
            ],
            [
             0.4444444444444444,
             "#bd3786"
            ],
            [
             0.5555555555555556,
             "#d8576b"
            ],
            [
             0.6666666666666666,
             "#ed7953"
            ],
            [
             0.7777777777777778,
             "#fb9f3a"
            ],
            [
             0.8888888888888888,
             "#fdca26"
            ],
            [
             1,
             "#f0f921"
            ]
           ]
          },
          "colorway": [
           "#636efa",
           "#EF553B",
           "#00cc96",
           "#ab63fa",
           "#FFA15A",
           "#19d3f3",
           "#FF6692",
           "#B6E880",
           "#FF97FF",
           "#FECB52"
          ],
          "font": {
           "color": "#2a3f5f"
          },
          "geo": {
           "bgcolor": "white",
           "lakecolor": "white",
           "landcolor": "#E5ECF6",
           "showlakes": true,
           "showland": true,
           "subunitcolor": "white"
          },
          "hoverlabel": {
           "align": "left"
          },
          "hovermode": "closest",
          "mapbox": {
           "style": "light"
          },
          "paper_bgcolor": "white",
          "plot_bgcolor": "#E5ECF6",
          "polar": {
           "angularaxis": {
            "gridcolor": "white",
            "linecolor": "white",
            "ticks": ""
           },
           "bgcolor": "#E5ECF6",
           "radialaxis": {
            "gridcolor": "white",
            "linecolor": "white",
            "ticks": ""
           }
          },
          "scene": {
           "xaxis": {
            "backgroundcolor": "#E5ECF6",
            "gridcolor": "white",
            "gridwidth": 2,
            "linecolor": "white",
            "showbackground": true,
            "ticks": "",
            "zerolinecolor": "white"
           },
           "yaxis": {
            "backgroundcolor": "#E5ECF6",
            "gridcolor": "white",
            "gridwidth": 2,
            "linecolor": "white",
            "showbackground": true,
            "ticks": "",
            "zerolinecolor": "white"
           },
           "zaxis": {
            "backgroundcolor": "#E5ECF6",
            "gridcolor": "white",
            "gridwidth": 2,
            "linecolor": "white",
            "showbackground": true,
            "ticks": "",
            "zerolinecolor": "white"
           }
          },
          "shapedefaults": {
           "line": {
            "color": "#2a3f5f"
           }
          },
          "ternary": {
           "aaxis": {
            "gridcolor": "white",
            "linecolor": "white",
            "ticks": ""
           },
           "baxis": {
            "gridcolor": "white",
            "linecolor": "white",
            "ticks": ""
           },
           "bgcolor": "#E5ECF6",
           "caxis": {
            "gridcolor": "white",
            "linecolor": "white",
            "ticks": ""
           }
          },
          "title": {
           "x": 0.05
          },
          "xaxis": {
           "automargin": true,
           "gridcolor": "white",
           "linecolor": "white",
           "ticks": "",
           "title": {
            "standoff": 15
           },
           "zerolinecolor": "white",
           "zerolinewidth": 2
          },
          "yaxis": {
           "automargin": true,
           "gridcolor": "white",
           "linecolor": "white",
           "ticks": "",
           "title": {
            "standoff": 15
           },
           "zerolinecolor": "white",
           "zerolinewidth": 2
          }
         }
        },
        "title": {
         "text": "Spam"
        }
       }
      }
     },
     "metadata": {},
     "output_type": "display_data"
    }
   ],
   "source": [
    "dist = spam['class'].value_counts()\n",
    "colors = ['mediumturquoise', 'darkorange']\n",
    "trace = go.Pie(values=(np.array(dist)),labels=dist.index)\n",
    "layout = go.Layout(title='Spam')\n",
    "data = [trace]\n",
    "fig = go.Figure(trace,layout)\n",
    "fig.update_traces(marker=dict(colors=colors, line=dict(color='#000000', width=2)))\n",
    "fig.show()"
   ]
  },
  {
   "attachments": {},
   "cell_type": "markdown",
   "metadata": {},
   "source": [
    "### 3.2) Normalização do DB\n",
    "Através do método describe observa-se que os atributos não possuem escalas iguais. Logo, é necessários normalizá-los."
   ]
  },
  {
   "cell_type": "code",
   "execution_count": 5,
   "metadata": {},
   "outputs": [],
   "source": [
    "# print(spam.describe())\n",
    "normPadrao = StandardScaler()\n",
    "\n",
    "# Ajusta os dados e transforma eles\n",
    "X_norm = normPadrao.fit_transform(X)\n",
    "\n",
    "X_norm = pd.DataFrame(X_norm)"
   ]
  },
  {
   "attachments": {},
   "cell_type": "markdown",
   "metadata": {},
   "source": [
    "## 4) Modelos \n",
    "Com o obejtivo de desenvolver modelos que classificam corretamento e-mail spam e levando em conta o desbalanceamento das classes a métrica de avaliação utilizada será o F-beta score."
   ]
  },
  {
   "attachments": {},
   "cell_type": "markdown",
   "metadata": {},
   "source": [
    "### 4.1) SVM\n",
    "#### - Hiperparâmetros\n",
    "\n",
    "- Parêmetro C: Penalidade para cada ponto de dado classificado errado. Um C pequeno representa pouca penalidade para erros na classificação, enquanto que um valor alto desse parâmetro pode resultar em overfitting.\n",
    "- Parâmetro Gamma: Para kernel não lineares o gamma define o grau de influência do kernel trick. Por exemplo, para a função kernel RBF o gamma representa a distância de influência de um único ponto de dados."
   ]
  },
  {
   "attachments": {},
   "cell_type": "markdown",
   "metadata": {},
   "source": [
    "### 4.3) KNN\n",
    "#### - Hiperparâmetros \n",
    "- Número de vizinhos \n",
    "- Função de pesos (weights): Forma como os vizinhos influenciam na predição"
   ]
  },
  {
   "attachments": {},
   "cell_type": "markdown",
   "metadata": {},
   "source": [
    "### 4.2) MLP\n",
    "\n",
    "#### - Hiperparâmetros \n",
    "- Função de ativação \n",
    "- Taxa de aprendizado \n",
    "- Número de neurônios por camada \n"
   ]
  },
  {
   "attachments": {},
   "cell_type": "markdown",
   "metadata": {},
   "source": [
    "### 5) Treinamento com validação cruzada aninhada com otimização de hiperparâmetros\n"
   ]
  },
  {
   "attachments": {},
   "cell_type": "markdown",
   "metadata": {},
   "source": [
    "#### 5.1) Função de treinamento, teste e otimização\n"
   ]
  },
  {
   "cell_type": "code",
   "execution_count": 6,
   "metadata": {},
   "outputs": [],
   "source": [
    "def optimizedCrossValidation(tunning, clf, X, y, n_splits_out = 3, n_splits_in = 3):\n",
    "    # Estrategias de validação cruzada\n",
    "    cv_in = KFold(n_splits=n_splits_out, shuffle=True, random_state=1)\n",
    "    cv_ex = KFold(n_splits=n_splits_in, shuffle=True, random_state=1)\n",
    "    scores = []\n",
    "    tunning_parameters = []\n",
    "\n",
    "    num_folder = 1\n",
    "    # Validação cruzada externa\n",
    "    for treino_index, teste_index in cv_ex.split(X, y):\n",
    "        # Validação cruzada interna \n",
    "        print('\\nValidação cruzada {} da divisão externa {}'.format(num_folder, cv_ex.get_n_splits()))\n",
    "        num_folder += 1\n",
    "\n",
    "        # Separa o dataset em treino e teste\n",
    "        X_treino, X_teste = X.loc[treino_index], X.loc[teste_index]\n",
    "        y_treino, y_teste = y.loc[treino_index], y.loc[teste_index]\n",
    "\n",
    "        # Otimização de parametros (treino, validação)\n",
    "        modelo = GridSearchCV(estimator=clf, param_grid=tunning, cv=cv_in, scoring='f1')\n",
    "        modelo.fit(X_treino, y_treino)\n",
    "        tunning_parameters.append(modelo.best_params_)\n",
    "        print('\\nMelhor valor de Hiperparâmetros: {}'.format(modelo.best_params_))\n",
    "\n",
    "        # Teste nos dados de treino com os parâmetro otimizados \n",
    "        y_prev  = modelo.predict(X_teste)\n",
    "        score = f1_score(y_teste, y_prev)\n",
    "        scores.append(score)\n",
    "        print('\\nPrecisão nos dados de teste: {}'.format(score))\n",
    "\n",
    "\n",
    "    modelResultsChart(len(scores), scores, tunning_parameters, \"Score na validação cruzada com otimização de parâmetros\")\n",
    "   \n"
   ]
  },
  {
   "attachments": {},
   "cell_type": "markdown",
   "metadata": {},
   "source": [
    "#### 5.2) SVM "
   ]
  },
  {
   "cell_type": "code",
   "execution_count": 7,
   "metadata": {},
   "outputs": [
    {
     "name": "stdout",
     "output_type": "stream",
     "text": [
      "\n",
      "Validação cruzada 1 da divisão externa 5\n",
      "\n",
      "Melhor valor de Hiperparâmetros: {'C': 10, 'gamma': 0.01}\n",
      "\n",
      "Precisão nos dados de teste: 0.9239598278335723\n",
      "\n",
      "Validação cruzada 2 da divisão externa 5\n",
      "\n",
      "Melhor valor de Hiperparâmetros: {'C': 100, 'gamma': 0.001}\n",
      "\n",
      "Precisão nos dados de teste: 0.9173333333333333\n",
      "\n",
      "Validação cruzada 3 da divisão externa 5\n",
      "\n",
      "Melhor valor de Hiperparâmetros: {'C': 10, 'gamma': 0.01}\n",
      "\n",
      "Precisão nos dados de teste: 0.903663500678426\n",
      "\n",
      "Validação cruzada 4 da divisão externa 5\n",
      "\n",
      "Melhor valor de Hiperparâmetros: {'C': 10, 'gamma': 0.01}\n",
      "\n",
      "Precisão nos dados de teste: 0.9323529411764706\n",
      "\n",
      "Validação cruzada 5 da divisão externa 5\n",
      "\n",
      "Melhor valor de Hiperparâmetros: {'C': 10, 'gamma': 0.01}\n",
      "\n",
      "Precisão nos dados de teste: 0.9230769230769231\n"
     ]
    },
    {
     "data": {
      "image/png": "[encoded data removed]",
      "text/plain": [
       "<Figure size 1000x400 with 1 Axes>"
      ]
     },
     "metadata": {},
     "output_type": "display_data"
    }
   ],
   "source": [
    "\n",
    "tunnig = {\"C\":[1, 10, 100], \"gamma\": [0.1, 0.01, 0.001]}\n",
    "\n",
    "svm_clf = svm.SVC(kernel='rbf')\n",
    "\n",
    "optimizedCrossValidation(tunnig, svm_clf, X_norm, y, n_splits_out = 5, n_splits_in = 5)\n",
    "\n",
    "    "
   ]
  },
  {
   "attachments": {},
   "cell_type": "markdown",
   "metadata": {},
   "source": [
    "#### 5.3) KNN"
   ]
  },
  {
   "cell_type": "code",
   "execution_count": 8,
   "metadata": {},
   "outputs": [
    {
     "name": "stdout",
     "output_type": "stream",
     "text": [
      "\n",
      "Validação cruzada 1 da divisão externa 5\n",
      "\n",
      "Melhor valor de Hiperparâmetros: {'n_neighbors': 10, 'weights': 'distance'}\n",
      "\n",
      "Precisão nos dados de teste: 0.9052333804809053\n",
      "\n",
      "Validação cruzada 2 da divisão externa 5\n",
      "\n",
      "Melhor valor de Hiperparâmetros: {'n_neighbors': 10, 'weights': 'distance'}\n",
      "\n",
      "Precisão nos dados de teste: 0.9044414535666218\n",
      "\n",
      "Validação cruzada 3 da divisão externa 5\n",
      "\n",
      "Melhor valor de Hiperparâmetros: {'n_neighbors': 10, 'weights': 'distance'}\n",
      "\n",
      "Precisão nos dados de teste: 0.8870748299319727\n",
      "\n",
      "Validação cruzada 4 da divisão externa 5\n",
      "\n",
      "Melhor valor de Hiperparâmetros: {'n_neighbors': 10, 'weights': 'distance'}\n",
      "\n",
      "Precisão nos dados de teste: 0.9148629148629149\n",
      "\n",
      "Validação cruzada 5 da divisão externa 5\n",
      "\n",
      "Melhor valor de Hiperparâmetros: {'n_neighbors': 10, 'weights': 'distance'}\n",
      "\n",
      "Precisão nos dados de teste: 0.8974358974358975\n"
     ]
    },
    {
     "data": {
      "image/png": "[encoded data removed]",
      "text/plain": [
       "<Figure size 1000x400 with 1 Axes>"
      ]
     },
     "metadata": {},
     "output_type": "display_data"
    }
   ],
   "source": [
    "tunnig = {\"n_neighbors\":[5, 10, 50], \"weights\": ['uniform', 'distance']}\n",
    "\n",
    "knn_clf = KNeighborsClassifier()\n",
    "\n",
    "optimizedCrossValidation(tunnig, knn_clf, X_norm, y, n_splits_out = 5, n_splits_in = 5)"
   ]
  },
  {
   "attachments": {},
   "cell_type": "markdown",
   "metadata": {},
   "source": [
    "#### 5.4) MLP"
   ]
  },
  {
   "cell_type": "code",
   "execution_count": 11,
   "metadata": {},
   "outputs": [
    {
     "name": "stdout",
     "output_type": "stream",
     "text": [
      "\n",
      "Validação cruzada 1 da divisão externa 5\n",
      "\n",
      "Melhor valor de Hiperparâmetros: {'activation': 'relu', 'hidden_layer_sizes': (150, 100, 50), 'learning_rate_init': 0.01}\n",
      "\n",
      "Precisão nos dados de teste: 0.9146005509641874\n",
      "\n",
      "Validação cruzada 2 da divisão externa 5\n",
      "\n",
      "Melhor valor de Hiperparâmetros: {'activation': 'relu', 'hidden_layer_sizes': (150, 100, 50), 'learning_rate_init': 0.001}\n",
      "\n",
      "Precisão nos dados de teste: 0.9298701298701298\n",
      "\n",
      "Validação cruzada 3 da divisão externa 5\n"
     ]
    },
    {
     "name": "stderr",
     "output_type": "stream",
     "text": [
      "/home/pedro/.local/lib/python3.10/site-packages/sklearn/neural_network/_multilayer_perceptron.py:686: ConvergenceWarning:\n",
      "\n",
      "Stochastic Optimizer: Maximum iterations (200) reached and the optimization hasn't converged yet.\n",
      "\n"
     ]
    },
    {
     "name": "stdout",
     "output_type": "stream",
     "text": [
      "\n",
      "Melhor valor de Hiperparâmetros: {'activation': 'relu', 'hidden_layer_sizes': (100, 100, 100), 'learning_rate_init': 0.001}\n",
      "\n",
      "Precisão nos dados de teste: 0.9014454664914585\n",
      "\n",
      "Validação cruzada 4 da divisão externa 5\n",
      "\n",
      "Melhor valor de Hiperparâmetros: {'activation': 'relu', 'hidden_layer_sizes': (100, 100, 100), 'learning_rate_init': 0.01}\n",
      "\n",
      "Precisão nos dados de teste: 0.9423631123919308\n",
      "\n",
      "Validação cruzada 5 da divisão externa 5\n",
      "\n",
      "Melhor valor de Hiperparâmetros: {'activation': 'relu', 'hidden_layer_sizes': (100, 100, 100), 'learning_rate_init': 0.001}\n",
      "\n",
      "Precisão nos dados de teste: 0.9183955739972338\n"
     ]
    },
    {
     "data": {
      "image/png": "[encoded data removed]",
      "text/plain": [
       "<Figure size 1200x400 with 1 Axes>"
      ]
     },
     "metadata": {},
     "output_type": "display_data"
    }
   ],
   "source": [
    "tunnig = {\"hidden_layer_sizes\":[(150,100,50), (100,100,100)], \n",
    "          \"activation\":['relu', 'tanh'], \n",
    "          \"learning_rate_init\": [0.001, 0.01]}\n",
    "\n",
    "mlp_clf = MLPClassifier()\n",
    "\n",
    "optimizedCrossValidation(tunnig, mlp_clf, X_norm, y, n_splits_out = 5, n_splits_in = 5)"
   ]
  },
  {
   "attachments": {},
   "cell_type": "markdown",
   "metadata": {},
   "source": [
    "## Referências \n",
    "1) https://medium.com/@tonop15/spambase-data-exploration-analysis-9a3d6d83ee78\n",
    "2) https://www.geeksforgeeks.org/svm-hyperparameter-tuning-using-gridsearchcv-ml/\n",
    "4) https://scikit-learn.org/stable/auto_examples/model_selection/plot_nested_cross_validation_iris.html#sphx-glr-auto-examples-model-selection-plot-nested-cross-validation-iris-py\n",
    "5) https://www.kaggle.com/code/jacoporepossi/tutorial-cross-validation-nested-cv\n"
   ]
  }
 ],
 "metadata": {
  "kernelspec": {
   "display_name": "Python 3",
   "language": "python",
   "name": "python3"
  },
  "language_info": {
   "codemirror_mode": {
    "name": "ipython",
    "version": 3
   },
   "file_extension": ".py",
   "mimetype": "text/x-python",
   "name": "python",
   "nbconvert_exporter": "python",
   "pygments_lexer": "ipython3",
   "version": "3.10.6"
  },
  "orig_nbformat": 4
 },
 "nbformat": 4,
 "nbformat_minor": 2
}
